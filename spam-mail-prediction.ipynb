{
 "cells": [
  {
   "cell_type": "code",
   "execution_count": 1,
   "id": "7619745e",
   "metadata": {
    "_cell_guid": "b1076dfc-b9ad-4769-8c92-a6c4dae69d19",
    "_uuid": "8f2839f25d086af736a60e9eeb907d3b93b6e0e5",
    "execution": {
     "iopub.execute_input": "2024-03-27T03:02:35.989740Z",
     "iopub.status.busy": "2024-03-27T03:02:35.989137Z",
     "iopub.status.idle": "2024-03-27T03:02:36.772399Z",
     "shell.execute_reply": "2024-03-27T03:02:36.771359Z"
    },
    "papermill": {
     "duration": 0.792738,
     "end_time": "2024-03-27T03:02:36.774949",
     "exception": false,
     "start_time": "2024-03-27T03:02:35.982211",
     "status": "completed"
    },
    "tags": []
   },
   "outputs": [
    {
     "name": "stdout",
     "output_type": "stream",
     "text": [
      "/kaggle/input/spam-mail-data/mail_data.csv\n"
     ]
    }
   ],
   "source": [
    "# This Python 3 environment comes with many helpful analytics libraries installed\n",
    "# It is defined by the kaggle/python Docker image: https://github.com/kaggle/docker-python\n",
    "# For example, here's several helpful packages to load\n",
    "\n",
    "import numpy as np # linear algebra\n",
    "import pandas as pd # data processing, CSV file I/O (e.g. pd.read_csv)\n",
    "\n",
    "# Input data files are available in the read-only \"../input/\" directory\n",
    "# For example, running this (by clicking run or pressing Shift+Enter) will list all files under the input directory\n",
    "\n",
    "import os\n",
    "for dirname, _, filenames in os.walk('/kaggle/input'):\n",
    "    for filename in filenames:\n",
    "        print(os.path.join(dirname, filename))\n",
    "\n",
    "# You can write up to 20GB to the current directory (/kaggle/working/) that gets preserved as output when you create a version using \"Save & Run All\" \n",
    "# You can also write temporary files to /kaggle/temp/, but they won't be saved outside of the current session"
   ]
  },
  {
   "cell_type": "code",
   "execution_count": 2,
   "id": "23543514",
   "metadata": {
    "execution": {
     "iopub.execute_input": "2024-03-27T03:02:36.785727Z",
     "iopub.status.busy": "2024-03-27T03:02:36.785333Z",
     "iopub.status.idle": "2024-03-27T03:02:38.036330Z",
     "shell.execute_reply": "2024-03-27T03:02:38.035257Z"
    },
    "papermill": {
     "duration": 1.258967,
     "end_time": "2024-03-27T03:02:38.038793",
     "exception": false,
     "start_time": "2024-03-27T03:02:36.779826",
     "status": "completed"
    },
    "tags": []
   },
   "outputs": [],
   "source": [
    "import numpy as np\n",
    "import pandas as pd\n",
    "from sklearn.model_selection import train_test_split\n",
    "from sklearn.feature_extraction.text import TfidfVectorizer\n",
    "from sklearn.linear_model import LogisticRegression\n",
    "from sklearn.metrics import accuracy_score"
   ]
  },
  {
   "cell_type": "code",
   "execution_count": 3,
   "id": "2c570f81",
   "metadata": {
    "execution": {
     "iopub.execute_input": "2024-03-27T03:02:38.049771Z",
     "iopub.status.busy": "2024-03-27T03:02:38.049444Z",
     "iopub.status.idle": "2024-03-27T03:02:38.077530Z",
     "shell.execute_reply": "2024-03-27T03:02:38.076708Z"
    },
    "papermill": {
     "duration": 0.036007,
     "end_time": "2024-03-27T03:02:38.079778",
     "exception": false,
     "start_time": "2024-03-27T03:02:38.043771",
     "status": "completed"
    },
    "tags": []
   },
   "outputs": [],
   "source": [
    "raw_mail_data = pd.read_csv('/kaggle/input/spam-mail-data/mail_data.csv')"
   ]
  },
  {
   "cell_type": "code",
   "execution_count": 4,
   "id": "074d818c",
   "metadata": {
    "execution": {
     "iopub.execute_input": "2024-03-27T03:02:38.090838Z",
     "iopub.status.busy": "2024-03-27T03:02:38.090500Z",
     "iopub.status.idle": "2024-03-27T03:02:38.097923Z",
     "shell.execute_reply": "2024-03-27T03:02:38.096951Z"
    },
    "papermill": {
     "duration": 0.015303,
     "end_time": "2024-03-27T03:02:38.099974",
     "exception": false,
     "start_time": "2024-03-27T03:02:38.084671",
     "status": "completed"
    },
    "tags": []
   },
   "outputs": [],
   "source": [
    "mail_data = raw_mail_data.where((pd.notnull(raw_mail_data)),'')"
   ]
  },
  {
   "cell_type": "code",
   "execution_count": 5,
   "id": "322a3853",
   "metadata": {
    "execution": {
     "iopub.execute_input": "2024-03-27T03:02:38.111115Z",
     "iopub.status.busy": "2024-03-27T03:02:38.110753Z",
     "iopub.status.idle": "2024-03-27T03:02:38.124797Z",
     "shell.execute_reply": "2024-03-27T03:02:38.123734Z"
    },
    "papermill": {
     "duration": 0.022,
     "end_time": "2024-03-27T03:02:38.126759",
     "exception": false,
     "start_time": "2024-03-27T03:02:38.104759",
     "status": "completed"
    },
    "tags": []
   },
   "outputs": [
    {
     "data": {
      "text/html": [
       "<div>\n",
       "<style scoped>\n",
       "    .dataframe tbody tr th:only-of-type {\n",
       "        vertical-align: middle;\n",
       "    }\n",
       "\n",
       "    .dataframe tbody tr th {\n",
       "        vertical-align: top;\n",
       "    }\n",
       "\n",
       "    .dataframe thead th {\n",
       "        text-align: right;\n",
       "    }\n",
       "</style>\n",
       "<table border=\"1\" class=\"dataframe\">\n",
       "  <thead>\n",
       "    <tr style=\"text-align: right;\">\n",
       "      <th></th>\n",
       "      <th>Category</th>\n",
       "      <th>Message</th>\n",
       "    </tr>\n",
       "  </thead>\n",
       "  <tbody>\n",
       "    <tr>\n",
       "      <th>0</th>\n",
       "      <td>ham</td>\n",
       "      <td>Go until jurong point, crazy.. Available only ...</td>\n",
       "    </tr>\n",
       "    <tr>\n",
       "      <th>1</th>\n",
       "      <td>ham</td>\n",
       "      <td>Ok lar... Joking wif u oni...</td>\n",
       "    </tr>\n",
       "    <tr>\n",
       "      <th>2</th>\n",
       "      <td>spam</td>\n",
       "      <td>Free entry in 2 a wkly comp to win FA Cup fina...</td>\n",
       "    </tr>\n",
       "    <tr>\n",
       "      <th>3</th>\n",
       "      <td>ham</td>\n",
       "      <td>U dun say so early hor... U c already then say...</td>\n",
       "    </tr>\n",
       "    <tr>\n",
       "      <th>4</th>\n",
       "      <td>ham</td>\n",
       "      <td>Nah I don't think he goes to usf, he lives aro...</td>\n",
       "    </tr>\n",
       "  </tbody>\n",
       "</table>\n",
       "</div>"
      ],
      "text/plain": [
       "  Category                                            Message\n",
       "0      ham  Go until jurong point, crazy.. Available only ...\n",
       "1      ham                      Ok lar... Joking wif u oni...\n",
       "2     spam  Free entry in 2 a wkly comp to win FA Cup fina...\n",
       "3      ham  U dun say so early hor... U c already then say...\n",
       "4      ham  Nah I don't think he goes to usf, he lives aro..."
      ]
     },
     "execution_count": 5,
     "metadata": {},
     "output_type": "execute_result"
    }
   ],
   "source": [
    "mail_data.head()"
   ]
  },
  {
   "cell_type": "code",
   "execution_count": 6,
   "id": "fb3db830",
   "metadata": {
    "execution": {
     "iopub.execute_input": "2024-03-27T03:02:38.137487Z",
     "iopub.status.busy": "2024-03-27T03:02:38.137167Z",
     "iopub.status.idle": "2024-03-27T03:02:38.142949Z",
     "shell.execute_reply": "2024-03-27T03:02:38.142059Z"
    },
    "papermill": {
     "duration": 0.013239,
     "end_time": "2024-03-27T03:02:38.144797",
     "exception": false,
     "start_time": "2024-03-27T03:02:38.131558",
     "status": "completed"
    },
    "tags": []
   },
   "outputs": [
    {
     "data": {
      "text/plain": [
       "(5572, 2)"
      ]
     },
     "execution_count": 6,
     "metadata": {},
     "output_type": "execute_result"
    }
   ],
   "source": [
    "mail_data.shape"
   ]
  },
  {
   "cell_type": "code",
   "execution_count": 7,
   "id": "b4556dba",
   "metadata": {
    "execution": {
     "iopub.execute_input": "2024-03-27T03:02:38.155612Z",
     "iopub.status.busy": "2024-03-27T03:02:38.155291Z",
     "iopub.status.idle": "2024-03-27T03:02:38.162081Z",
     "shell.execute_reply": "2024-03-27T03:02:38.161437Z"
    },
    "papermill": {
     "duration": 0.014,
     "end_time": "2024-03-27T03:02:38.163714",
     "exception": false,
     "start_time": "2024-03-27T03:02:38.149714",
     "status": "completed"
    },
    "tags": []
   },
   "outputs": [
    {
     "data": {
      "text/plain": [
       "Category    0\n",
       "Message     0\n",
       "dtype: int64"
      ]
     },
     "execution_count": 7,
     "metadata": {},
     "output_type": "execute_result"
    }
   ],
   "source": [
    "mail_data.isnull().sum()"
   ]
  },
  {
   "cell_type": "code",
   "execution_count": 8,
   "id": "8cd8c5bb",
   "metadata": {
    "execution": {
     "iopub.execute_input": "2024-03-27T03:02:38.175244Z",
     "iopub.status.busy": "2024-03-27T03:02:38.174544Z",
     "iopub.status.idle": "2024-03-27T03:02:38.182797Z",
     "shell.execute_reply": "2024-03-27T03:02:38.181913Z"
    },
    "papermill": {
     "duration": 0.015962,
     "end_time": "2024-03-27T03:02:38.184537",
     "exception": false,
     "start_time": "2024-03-27T03:02:38.168575",
     "status": "completed"
    },
    "tags": []
   },
   "outputs": [],
   "source": [
    "# label spam mail as 0;  ham mail as 1;\n",
    "\n",
    "mail_data.loc[mail_data['Category'] == 'spam', 'Category',] = 0\n",
    "mail_data.loc[mail_data['Category'] == 'ham', 'Category',] = 1"
   ]
  },
  {
   "cell_type": "code",
   "execution_count": 9,
   "id": "e2fb98e9",
   "metadata": {
    "execution": {
     "iopub.execute_input": "2024-03-27T03:02:38.195397Z",
     "iopub.status.busy": "2024-03-27T03:02:38.195115Z",
     "iopub.status.idle": "2024-03-27T03:02:38.198855Z",
     "shell.execute_reply": "2024-03-27T03:02:38.198215Z"
    },
    "papermill": {
     "duration": 0.011042,
     "end_time": "2024-03-27T03:02:38.200498",
     "exception": false,
     "start_time": "2024-03-27T03:02:38.189456",
     "status": "completed"
    },
    "tags": []
   },
   "outputs": [],
   "source": [
    "# separating the data as texts and label\n",
    "\n",
    "X = mail_data['Message']\n",
    "\n",
    "Y = mail_data['Category']"
   ]
  },
  {
   "cell_type": "code",
   "execution_count": 10,
   "id": "b352cd31",
   "metadata": {
    "execution": {
     "iopub.execute_input": "2024-03-27T03:02:38.211360Z",
     "iopub.status.busy": "2024-03-27T03:02:38.211092Z",
     "iopub.status.idle": "2024-03-27T03:02:38.216878Z",
     "shell.execute_reply": "2024-03-27T03:02:38.215974Z"
    },
    "papermill": {
     "duration": 0.013483,
     "end_time": "2024-03-27T03:02:38.218970",
     "exception": false,
     "start_time": "2024-03-27T03:02:38.205487",
     "status": "completed"
    },
    "tags": []
   },
   "outputs": [
    {
     "name": "stdout",
     "output_type": "stream",
     "text": [
      "0       1\n",
      "1       1\n",
      "2       0\n",
      "3       1\n",
      "4       1\n",
      "       ..\n",
      "5567    0\n",
      "5568    1\n",
      "5569    1\n",
      "5570    1\n",
      "5571    1\n",
      "Name: Category, Length: 5572, dtype: object\n"
     ]
    }
   ],
   "source": [
    "print(Y)"
   ]
  },
  {
   "cell_type": "code",
   "execution_count": 11,
   "id": "d341b66d",
   "metadata": {
    "execution": {
     "iopub.execute_input": "2024-03-27T03:02:38.229999Z",
     "iopub.status.busy": "2024-03-27T03:02:38.229683Z",
     "iopub.status.idle": "2024-03-27T03:02:38.242974Z",
     "shell.execute_reply": "2024-03-27T03:02:38.242303Z"
    },
    "papermill": {
     "duration": 0.020872,
     "end_time": "2024-03-27T03:02:38.244808",
     "exception": false,
     "start_time": "2024-03-27T03:02:38.223936",
     "status": "completed"
    },
    "tags": []
   },
   "outputs": [],
   "source": [
    "X_train,X_test,Y_train,Y_test = train_test_split(X, Y, test_size=0.2, stratify=Y, random_state=2)"
   ]
  },
  {
   "cell_type": "code",
   "execution_count": 12,
   "id": "bef4e76d",
   "metadata": {
    "execution": {
     "iopub.execute_input": "2024-03-27T03:02:38.256325Z",
     "iopub.status.busy": "2024-03-27T03:02:38.255483Z",
     "iopub.status.idle": "2024-03-27T03:02:38.260227Z",
     "shell.execute_reply": "2024-03-27T03:02:38.259156Z"
    },
    "papermill": {
     "duration": 0.012589,
     "end_time": "2024-03-27T03:02:38.262367",
     "exception": false,
     "start_time": "2024-03-27T03:02:38.249778",
     "status": "completed"
    },
    "tags": []
   },
   "outputs": [
    {
     "name": "stdout",
     "output_type": "stream",
     "text": [
      "(4457,)\n"
     ]
    }
   ],
   "source": [
    "print(X_train.shape)"
   ]
  },
  {
   "cell_type": "code",
   "execution_count": 13,
   "id": "0b83b7ab",
   "metadata": {
    "execution": {
     "iopub.execute_input": "2024-03-27T03:02:38.274187Z",
     "iopub.status.busy": "2024-03-27T03:02:38.273367Z",
     "iopub.status.idle": "2024-03-27T03:02:38.459815Z",
     "shell.execute_reply": "2024-03-27T03:02:38.459028Z"
    },
    "papermill": {
     "duration": 0.194635,
     "end_time": "2024-03-27T03:02:38.462023",
     "exception": false,
     "start_time": "2024-03-27T03:02:38.267388",
     "status": "completed"
    },
    "tags": []
   },
   "outputs": [],
   "source": [
    "feature_extraction = TfidfVectorizer(min_df = 1, stop_words='english', lowercase=True)\n",
    "\n",
    "X_train_features = feature_extraction.fit_transform(X_train)\n",
    "X_test_features = feature_extraction.transform(X_test)\n",
    "\n",
    "# convert Y_train and Y_test values as integers\n",
    "\n",
    "Y_train = Y_train.astype('int')\n",
    "Y_test = Y_test.astype('int')"
   ]
  },
  {
   "cell_type": "code",
   "execution_count": 14,
   "id": "ba8504ab",
   "metadata": {
    "execution": {
     "iopub.execute_input": "2024-03-27T03:02:38.475102Z",
     "iopub.status.busy": "2024-03-27T03:02:38.474598Z",
     "iopub.status.idle": "2024-03-27T03:02:38.477937Z",
     "shell.execute_reply": "2024-03-27T03:02:38.477273Z"
    },
    "papermill": {
     "duration": 0.011348,
     "end_time": "2024-03-27T03:02:38.479639",
     "exception": false,
     "start_time": "2024-03-27T03:02:38.468291",
     "status": "completed"
    },
    "tags": []
   },
   "outputs": [],
   "source": [
    "# Training the Model\n",
    "\n",
    "# Logistic Regression\n",
    "\n",
    "model = LogisticRegression()"
   ]
  },
  {
   "cell_type": "code",
   "execution_count": 15,
   "id": "81aa24a4",
   "metadata": {
    "execution": {
     "iopub.execute_input": "2024-03-27T03:02:38.491683Z",
     "iopub.status.busy": "2024-03-27T03:02:38.491378Z",
     "iopub.status.idle": "2024-03-27T03:02:38.558627Z",
     "shell.execute_reply": "2024-03-27T03:02:38.557599Z"
    },
    "papermill": {
     "duration": 0.075579,
     "end_time": "2024-03-27T03:02:38.560713",
     "exception": false,
     "start_time": "2024-03-27T03:02:38.485134",
     "status": "completed"
    },
    "tags": []
   },
   "outputs": [
    {
     "data": {
      "text/html": [
       "<style>#sk-container-id-1 {color: black;background-color: white;}#sk-container-id-1 pre{padding: 0;}#sk-container-id-1 div.sk-toggleable {background-color: white;}#sk-container-id-1 label.sk-toggleable__label {cursor: pointer;display: block;width: 100%;margin-bottom: 0;padding: 0.3em;box-sizing: border-box;text-align: center;}#sk-container-id-1 label.sk-toggleable__label-arrow:before {content: \"▸\";float: left;margin-right: 0.25em;color: #696969;}#sk-container-id-1 label.sk-toggleable__label-arrow:hover:before {color: black;}#sk-container-id-1 div.sk-estimator:hover label.sk-toggleable__label-arrow:before {color: black;}#sk-container-id-1 div.sk-toggleable__content {max-height: 0;max-width: 0;overflow: hidden;text-align: left;background-color: #f0f8ff;}#sk-container-id-1 div.sk-toggleable__content pre {margin: 0.2em;color: black;border-radius: 0.25em;background-color: #f0f8ff;}#sk-container-id-1 input.sk-toggleable__control:checked~div.sk-toggleable__content {max-height: 200px;max-width: 100%;overflow: auto;}#sk-container-id-1 input.sk-toggleable__control:checked~label.sk-toggleable__label-arrow:before {content: \"▾\";}#sk-container-id-1 div.sk-estimator input.sk-toggleable__control:checked~label.sk-toggleable__label {background-color: #d4ebff;}#sk-container-id-1 div.sk-label input.sk-toggleable__control:checked~label.sk-toggleable__label {background-color: #d4ebff;}#sk-container-id-1 input.sk-hidden--visually {border: 0;clip: rect(1px 1px 1px 1px);clip: rect(1px, 1px, 1px, 1px);height: 1px;margin: -1px;overflow: hidden;padding: 0;position: absolute;width: 1px;}#sk-container-id-1 div.sk-estimator {font-family: monospace;background-color: #f0f8ff;border: 1px dotted black;border-radius: 0.25em;box-sizing: border-box;margin-bottom: 0.5em;}#sk-container-id-1 div.sk-estimator:hover {background-color: #d4ebff;}#sk-container-id-1 div.sk-parallel-item::after {content: \"\";width: 100%;border-bottom: 1px solid gray;flex-grow: 1;}#sk-container-id-1 div.sk-label:hover label.sk-toggleable__label {background-color: #d4ebff;}#sk-container-id-1 div.sk-serial::before {content: \"\";position: absolute;border-left: 1px solid gray;box-sizing: border-box;top: 0;bottom: 0;left: 50%;z-index: 0;}#sk-container-id-1 div.sk-serial {display: flex;flex-direction: column;align-items: center;background-color: white;padding-right: 0.2em;padding-left: 0.2em;position: relative;}#sk-container-id-1 div.sk-item {position: relative;z-index: 1;}#sk-container-id-1 div.sk-parallel {display: flex;align-items: stretch;justify-content: center;background-color: white;position: relative;}#sk-container-id-1 div.sk-item::before, #sk-container-id-1 div.sk-parallel-item::before {content: \"\";position: absolute;border-left: 1px solid gray;box-sizing: border-box;top: 0;bottom: 0;left: 50%;z-index: -1;}#sk-container-id-1 div.sk-parallel-item {display: flex;flex-direction: column;z-index: 1;position: relative;background-color: white;}#sk-container-id-1 div.sk-parallel-item:first-child::after {align-self: flex-end;width: 50%;}#sk-container-id-1 div.sk-parallel-item:last-child::after {align-self: flex-start;width: 50%;}#sk-container-id-1 div.sk-parallel-item:only-child::after {width: 0;}#sk-container-id-1 div.sk-dashed-wrapped {border: 1px dashed gray;margin: 0 0.4em 0.5em 0.4em;box-sizing: border-box;padding-bottom: 0.4em;background-color: white;}#sk-container-id-1 div.sk-label label {font-family: monospace;font-weight: bold;display: inline-block;line-height: 1.2em;}#sk-container-id-1 div.sk-label-container {text-align: center;}#sk-container-id-1 div.sk-container {/* jupyter's `normalize.less` sets `[hidden] { display: none; }` but bootstrap.min.css set `[hidden] { display: none !important; }` so we also need the `!important` here to be able to override the default hidden behavior on the sphinx rendered scikit-learn.org. See: https://github.com/scikit-learn/scikit-learn/issues/21755 */display: inline-block !important;position: relative;}#sk-container-id-1 div.sk-text-repr-fallback {display: none;}</style><div id=\"sk-container-id-1\" class=\"sk-top-container\"><div class=\"sk-text-repr-fallback\"><pre>LogisticRegression()</pre><b>In a Jupyter environment, please rerun this cell to show the HTML representation or trust the notebook. <br />On GitHub, the HTML representation is unable to render, please try loading this page with nbviewer.org.</b></div><div class=\"sk-container\" hidden><div class=\"sk-item\"><div class=\"sk-estimator sk-toggleable\"><input class=\"sk-toggleable__control sk-hidden--visually\" id=\"sk-estimator-id-1\" type=\"checkbox\" checked><label for=\"sk-estimator-id-1\" class=\"sk-toggleable__label sk-toggleable__label-arrow\">LogisticRegression</label><div class=\"sk-toggleable__content\"><pre>LogisticRegression()</pre></div></div></div></div></div>"
      ],
      "text/plain": [
       "LogisticRegression()"
      ]
     },
     "execution_count": 15,
     "metadata": {},
     "output_type": "execute_result"
    }
   ],
   "source": [
    "model.fit(X_train_features,Y_train)"
   ]
  },
  {
   "cell_type": "code",
   "execution_count": 16,
   "id": "002b9926",
   "metadata": {
    "execution": {
     "iopub.execute_input": "2024-03-27T03:02:38.572887Z",
     "iopub.status.busy": "2024-03-27T03:02:38.572544Z",
     "iopub.status.idle": "2024-03-27T03:02:38.579773Z",
     "shell.execute_reply": "2024-03-27T03:02:38.578946Z"
    },
    "papermill": {
     "duration": 0.015692,
     "end_time": "2024-03-27T03:02:38.581860",
     "exception": false,
     "start_time": "2024-03-27T03:02:38.566168",
     "status": "completed"
    },
    "tags": []
   },
   "outputs": [
    {
     "name": "stdout",
     "output_type": "stream",
     "text": [
      "0.9672425398249944\n"
     ]
    }
   ],
   "source": [
    "train_predict = model.predict(X_train_features)\n",
    "train_accuracy = accuracy_score(train_predict, Y_train)\n",
    "print(train_accuracy)"
   ]
  },
  {
   "cell_type": "code",
   "execution_count": 17,
   "id": "c1de602f",
   "metadata": {
    "execution": {
     "iopub.execute_input": "2024-03-27T03:02:38.594467Z",
     "iopub.status.busy": "2024-03-27T03:02:38.594176Z",
     "iopub.status.idle": "2024-03-27T03:02:38.600637Z",
     "shell.execute_reply": "2024-03-27T03:02:38.599781Z"
    },
    "papermill": {
     "duration": 0.014766,
     "end_time": "2024-03-27T03:02:38.602503",
     "exception": false,
     "start_time": "2024-03-27T03:02:38.587737",
     "status": "completed"
    },
    "tags": []
   },
   "outputs": [
    {
     "name": "stdout",
     "output_type": "stream",
     "text": [
      "0.9704035874439462\n"
     ]
    }
   ],
   "source": [
    "test_predict = model.predict(X_test_features)\n",
    "test_accuracy = accuracy_score(test_predict, Y_test)\n",
    "print(test_accuracy)"
   ]
  },
  {
   "cell_type": "code",
   "execution_count": 18,
   "id": "f4f32216",
   "metadata": {
    "execution": {
     "iopub.execute_input": "2024-03-27T03:02:38.614653Z",
     "iopub.status.busy": "2024-03-27T03:02:38.614347Z",
     "iopub.status.idle": "2024-03-27T03:02:38.622248Z",
     "shell.execute_reply": "2024-03-27T03:02:38.621260Z"
    },
    "papermill": {
     "duration": 0.016187,
     "end_time": "2024-03-27T03:02:38.624128",
     "exception": false,
     "start_time": "2024-03-27T03:02:38.607941",
     "status": "completed"
    },
    "tags": []
   },
   "outputs": [
    {
     "name": "stdout",
     "output_type": "stream",
     "text": [
      "  (0, 7355)\t0.2761134427785584\n",
      "  (0, 7182)\t0.2250483545531886\n",
      "  (0, 5122)\t0.3108588283913187\n",
      "  (0, 3871)\t0.3420072777456903\n",
      "  (0, 3154)\t0.2250483545531886\n",
      "  (0, 3118)\t0.19199893298350715\n",
      "  (0, 2020)\t0.3147689207143174\n",
      "  (0, 1775)\t0.3350800986728959\n",
      "  (0, 1511)\t0.3420072777456903\n",
      "  (0, 1509)\t0.39137640192798145\n",
      "  (0, 1116)\t0.30083126743197036\n",
      "[1]\n",
      "Ham mail\n"
     ]
    }
   ],
   "source": [
    "input_data = [\"Go until jurong point, crazy.. Available only in bugis n great world la e buffet... Cine there got amore wat...\"]\n",
    "\n",
    "feature_data = feature_extraction.transform(input_data)\n",
    "print(feature_data)\n",
    "\n",
    "prediction = model.predict(feature_data)\n",
    "print(prediction)\n",
    "\n",
    "if (prediction[0]==1):\n",
    "    print('Ham mail')\n",
    "\n",
    "else:\n",
    "    print('Spam mail')"
   ]
  },
  {
   "cell_type": "code",
   "execution_count": null,
   "id": "dd7ef464",
   "metadata": {
    "papermill": {
     "duration": 0.00527,
     "end_time": "2024-03-27T03:02:38.634839",
     "exception": false,
     "start_time": "2024-03-27T03:02:38.629569",
     "status": "completed"
    },
    "tags": []
   },
   "outputs": [],
   "source": []
  }
 ],
 "metadata": {
  "kaggle": {
   "accelerator": "none",
   "dataSources": [
    {
     "datasetId": 4676581,
     "sourceId": 7952037,
     "sourceType": "datasetVersion"
    }
   ],
   "dockerImageVersionId": 30673,
   "isGpuEnabled": false,
   "isInternetEnabled": false,
   "language": "python",
   "sourceType": "notebook"
  },
  "kernelspec": {
   "display_name": "Python 3",
   "language": "python",
   "name": "python3"
  },
  "language_info": {
   "codemirror_mode": {
    "name": "ipython",
    "version": 3
   },
   "file_extension": ".py",
   "mimetype": "text/x-python",
   "name": "python",
   "nbconvert_exporter": "python",
   "pygments_lexer": "ipython3",
   "version": "3.10.13"
  },
  "papermill": {
   "default_parameters": {},
   "duration": 5.550924,
   "end_time": "2024-03-27T03:02:39.058455",
   "environment_variables": {},
   "exception": null,
   "input_path": "__notebook__.ipynb",
   "output_path": "__notebook__.ipynb",
   "parameters": {},
   "start_time": "2024-03-27T03:02:33.507531",
   "version": "2.5.0"
  }
 },
 "nbformat": 4,
 "nbformat_minor": 5
}
